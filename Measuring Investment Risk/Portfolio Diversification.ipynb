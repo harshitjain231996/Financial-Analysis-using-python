{
 "cells": [
  {
   "cell_type": "markdown",
   "metadata": {},
   "source": [
    "# Portfolio Diversification\n",
    "1. Favourable macro economic conditions facilitate the business of all companies. When people have money, they will spend more and companies benefit from that as their revenues will increase\n",
    "2. In times of recession, consumers reduce their spending and will spend only on things which are primarily important for them. Since stock prices are determined by profits, whenever the economy is doing good, the stock prices are higher. Investors will pay a high price for profitable companies. In times of recession, companies profits are lower and so the stock prices will reduce significantly. Companies shares are influenced by the state of the economy.\n",
    "3. However different industries are influenced in a different way. A weak economy might have impact on industry A as compared to industry B. The state of economy impacts different industries in a different way.\n",
    "4. It is better to invest in companies operating in different industries. Example - If things don't go well in the internet space advertising spending decreases, competition becomes stronger, a new player enters the market and technology changes rapidly and so on. There could be a lot of reasons. So an investor wants to be protected. By buying the shares of companies buying in the same industry, the investors portfolio would have been exposed to an excessive risk for the same level of expected return."
   ]
  },
  {
   "cell_type": "markdown",
   "metadata": {},
   "source": []
  },
  {
   "cell_type": "code",
   "execution_count": null,
   "metadata": {},
   "outputs": [],
   "source": []
  }
 ],
 "metadata": {
  "kernelspec": {
   "display_name": "Python 3",
   "language": "python",
   "name": "python3"
  },
  "language_info": {
   "codemirror_mode": {
    "name": "ipython",
    "version": 3
   },
   "file_extension": ".py",
   "mimetype": "text/x-python",
   "name": "python",
   "nbconvert_exporter": "python",
   "pygments_lexer": "ipython3",
   "version": "3.7.4"
  }
 },
 "nbformat": 4,
 "nbformat_minor": 2
}
