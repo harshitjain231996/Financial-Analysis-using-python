{
 "cells": [
  {
   "cell_type": "markdown",
   "metadata": {},
   "source": [
    "# Market Index \n",
    "1. Provides an idea about how a given stock market is performing. Provides a large number of stock of overall samples in the market.\n",
    "2. It can be considered as a good proxy of the development of the market. Three most famous indices in the US are - Sand P 500, Dowjones, and NASDAQ."
   ]
  },
  {
   "cell_type": "markdown",
   "metadata": {},
   "source": [
    "# Standard and Poor\n",
    "1. It consists of 500 largest listed companies.\n",
    "2. It has diverse constituency, so it makes it the true approximation of the US Stock market.\n",
    "3. It is a market cap weighted index, which means companies are weighted according to their market value. Example - If company A has a market cap weighted index which is 3 times as that of company B, then in that case, if company A's stock price is changed by 1 percent, it will have 3 times more impact on the market as compared to a 1 percent change in the stock price of company B."
   ]
  },
  {
   "cell_type": "markdown",
   "metadata": {},
   "source": [
    "# Dowjones\n",
    "1. Uses an average of 30 large public stocks traded in the US. \n",
    "2. Inspite of it being one of the historically oldest indices, it cannot be used as a true representation of the US market since it only takes into account 30 stocks.\n",
    "3. Also, the stocks are equally weighted irrespective of their size."
   ]
  },
  {
   "cell_type": "markdown",
   "metadata": {},
   "source": [
    "# NASDAQ\n",
    " Mostly it shows us about the rate of return of IT Companies since majorly it consist of the stock prices of IT companies.\n"
   ]
  },
  {
   "cell_type": "markdown",
   "metadata": {},
   "source": [
    "# Stock Index\n",
    "One of the most used comparator to understand how our stocks are performing in the overall stock market. Also it gives us the sense of the type of return we can expect if we invest in a wide variety of portfolios."
   ]
  },
  {
   "cell_type": "code",
   "execution_count": null,
   "metadata": {},
   "outputs": [],
   "source": []
  }
 ],
 "metadata": {
  "kernelspec": {
   "display_name": "Python 3",
   "language": "python",
   "name": "python3"
  },
  "language_info": {
   "codemirror_mode": {
    "name": "ipython",
    "version": 3
   },
   "file_extension": ".py",
   "mimetype": "text/x-python",
   "name": "python",
   "nbconvert_exporter": "python",
   "pygments_lexer": "ipython3",
   "version": "3.7.4"
  }
 },
 "nbformat": 4,
 "nbformat_minor": 2
}
